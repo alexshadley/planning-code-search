{
 "cells": [
  {
   "cell_type": "code",
   "execution_count": 236,
   "id": "e289e5ff",
   "metadata": {},
   "outputs": [],
   "source": [
    "from langchain.text_splitter import HTMLHeaderTextSplitter\n",
    "from langchain.text_splitter import RecursiveCharacterTextSplitter\n",
    "from bs4 import BeautifulSoup\n",
    "import numpy as np\n",
    "import string"
   ]
  },
  {
   "cell_type": "code",
   "execution_count": 119,
   "id": "15b3c8e0",
   "metadata": {},
   "outputs": [],
   "source": [
    "with open('../san_francisco-ca-2.html', encoding='latin-1') as f:\n",
    "    planning_code = f.read()"
   ]
  },
  {
   "cell_type": "code",
   "execution_count": 120,
   "id": "f4fe423d-f5c8-480b-954f-7b252c3cfd89",
   "metadata": {},
   "outputs": [
    {
     "data": {
      "text/plain": [
       "36203998"
      ]
     },
     "execution_count": 120,
     "metadata": {},
     "output_type": "execute_result"
    }
   ],
   "source": [
    "len(planning_code)"
   ]
  },
  {
   "cell_type": "code",
   "execution_count": 142,
   "id": "ae56703d-ab49-4779-8495-5d6b5b89ec0c",
   "metadata": {},
   "outputs": [],
   "source": [
    "def remove_css_from_html(html_content):\n",
    "    # Credit to gpt4\n",
    "    # Parse the HTML content\n",
    "    soup = BeautifulSoup(html_content, 'html.parser')\n",
    "\n",
    "    # Remove all CSS style attributes\n",
    "    for tag in soup.recursiveChildGenerator():\n",
    "        if hasattr(tag, 'attrs'):\n",
    "            tag.attrs = {key: value for key, value in tag.attrs.items() if key != 'style'}\n",
    "\n",
    "    # Remove all CSS class attributes\n",
    "    for tag in soup.find_all(True, {'class': True}):\n",
    "        if tag.name == 'div' and 'ChapAn' in tag.get('class', []):\n",
    "            continue  # Skip this tag if it's a <div> with class \"ChapAn\"\n",
    "        del tag['class']\n",
    "\n",
    "    # Find and remove all AnnotationDrawer elements\n",
    "    for tag in soup.find_all('annotationdrawer'):\n",
    "        tag.decompose()\n",
    "        \n",
    "    return str(soup)\n",
    "\n",
    "# Remove CSS from the HTML\n",
    "clean_html = remove_css_from_html(planning_code)\n",
    "\n",
    "# Write the cleaned HTML to a new file\n",
    "with open('cleaned_html_file.html', 'w') as file:\n",
    "    file.write(clean_html)\n",
    "\n"
   ]
  },
  {
   "cell_type": "code",
   "execution_count": 143,
   "id": "8c257987-0f33-4528-8b5e-4d0d3b2af154",
   "metadata": {},
   "outputs": [
    {
     "data": {
      "text/plain": [
       "0.41231103813451764"
      ]
     },
     "execution_count": 143,
     "metadata": {},
     "output_type": "execute_result"
    }
   ],
   "source": [
    "len(clean_html) / len(planning_code)"
   ]
  },
  {
   "cell_type": "code",
   "execution_count": 198,
   "id": "56aa696e-b105-41fc-ba8e-9fd52e4d01f1",
   "metadata": {},
   "outputs": [],
   "source": [
    "indentations = ['>' + '\\xa0'*i + '(' for i in range(1, 20) ]"
   ]
  },
  {
   "cell_type": "code",
   "execution_count": 239,
   "id": "ff63d419-2b1a-4619-8ad0-3e476f001ad1",
   "metadata": {},
   "outputs": [],
   "source": [
    "little_letters = ['(' + l + ')' for l in string.ascii_lowercase]"
   ]
  },
  {
   "cell_type": "code",
   "execution_count": 252,
   "id": "1a1935b1-57a0-459b-873f-ba64b92fba0d",
   "metadata": {},
   "outputs": [],
   "source": [
    "numbered_sections = ['(' + str(d) + ')' for d in range(100)]"
   ]
  },
  {
   "cell_type": "code",
   "execution_count": 253,
   "id": "e05b87b6",
   "metadata": {},
   "outputs": [],
   "source": [
    "splitter = RecursiveCharacterTextSplitter(\n",
    "    ['SEC'] + little_letters + numbered_sections + ['\\n\\n', '\\n', ' '],\n",
    "    #chunk_size = 1000,\n",
    "    chunk_overlap = 100,\n",
    "    length_function = len,\n",
    "    add_start_index = False\n",
    ")"
   ]
  },
  {
   "cell_type": "code",
   "execution_count": 254,
   "id": "dff15ede",
   "metadata": {
    "scrolled": true
   },
   "outputs": [
    {
     "data": {
      "text/plain": [
       "7735"
      ]
     },
     "execution_count": 254,
     "metadata": {},
     "output_type": "execute_result"
    }
   ],
   "source": [
    "chunks = splitter.split_text(clean_html)\n",
    "len(chunks)"
   ]
  },
  {
   "cell_type": "code",
   "execution_count": 256,
   "id": "1eaa0acc-5c33-4d38-a35e-a6990e3397ef",
   "metadata": {},
   "outputs": [
    {
     "data": {
      "text/plain": [
       "array(['(c)(6).</span></div></td></tr><tr><td><div><span>Dwelling Unit Density</span></div></td><td><div><span>§§ <link to=\"{{ pathname: \\'/codes/san_francisco/latest/sf_planning/0-0-0-17783\\', hash: \\'#JD_102\\' }}\"/>102, <link to=\"{{ pathname: \\'/codes/san_francisco/latest/sf_planning/0-0-0-19952\\', hash: \\'#JD_207\\' }}\"/>207</span></div></td><td colspan=\"3\"><div><span>1 unit per 800 square foot lot area, or the density permitted in the nearest R District, whichever is greater.</span></div></td></tr><tr><td><div><span>Group Housing Density</span></div></td><td><div><span>§ <link to=\"{{ pathname: \\'/codes/san_francisco/latest/sf_planning/0-0-0-20056\\', hash: \\'#JD_208\\' }}\"/>208</span></div></td><td colspan=\"3\"><div><span>1 bedroom per 275 square foot lot area, or the density permitted in the nearest R District, whichever is greater.</span></div></td></tr><tr><td><div><span>Homeless Shelter Density</span></div></td><td><div><span>§§ <link to=\"{{ pathname: \\'/codes/san_francisco/latest/sf_planning/0-0-0-17783\\', hash: \\'#JD_102\\' }}\"/>102, <link to=\"{{ pathname: \\'/codes/san_francisco/latest/sf_planning/0-0-0-20056\\', hash: \\'#JD_208\\' }}\"/>208</span></div></td><td colspan=\"3\"><div><span>Density limits regulated by the Administrative Code</span></div></td></tr><tr><td><div><span>Senior Housing Density</span></div></td><td><div><span>§§ <link to=\"{{ pathname: \\'/codes/san_francisco/latest/sf_planning/0-0-0-17783\\', hash: \\'#JD_102\\' }}\"/>102, <link to=\"{{ pathname: \\'/codes/san_francisco/latest/sf_planning/0-0-0-49757\\', hash: \\'#JD_202.2\\' }}\"/>202.2(f), <link to=\"{{ pathname: \\'/codes/san_francisco/latest/sf_planning/0-0-0-19952\\', hash: \\'#JD_207\\' }}\"/>207</span></div></td><td colspan=\"3\"><div><span>P up to twice the number of Dwelling Units otherwise permitted as a Principal Use in the district and meeting all the requirements of § <link to=\"{{ pathname: \\'/codes/san_francisco/latest/sf_planning/0-0-0-49757\\', hash: \\'#JD_202.2\\' }}\"/>202.2(f)(1). C up to twice the number of Dwelling Units otherwise permitted as a Principal Use in the district and meeting all requirements of § <link to=\"{{ pathname: \\'/codes/san_francisco/latest/sf_planning/0-0-0-49757\\', hash: \\'#JD_202.2\\' }}\"/>202.2(f)(1), except for § <link to=\"{{ pathname: \\'/codes/san_francisco/latest/sf_planning/0-0-0-49757\\', hash: \\'#JD_202.2\\' }}\"/>202.2',\n",
       "       'SEC. 128.  TRANSFER OF DEVELOPMENT RIGHTS IN C-3 DISTRICTS.</div></div><div></div><div id=\"rid-0-0-0-49433\"><div>',\n",
       "       '(c)(4) of this Code.</div></div><div></div><div id=\"rid-0-0-0-56587\"><div>\\xa0<div><table cellspacing=\"0\"><colgroup><col width=\"94.476%\\n              \"/></colgroup><tbody><tr><td><div><div><span><a id=\"JD_Table713\" name=\"JD_Table713\" title=\"Table 713\"></a>Table 713. </span><span>NEIGHBORHOOD COMMERCIAL SHOPPING CENTER DISTRICT NC-S</span><span><br/>ZONING CONTROL TABLE</span></div></div></td></tr></tbody></table></div></div><div><scrolltable><div><table cellspacing=\"0\"><colgroup><col width=\"34.286%\\n              \"/><col width=\"20.571%\\n              \"/><col width=\"41.143%\\n              \"/></colgroup><tbody><tr><td><div></div></td><td><div></div></td><td><div><div><span>NC-S</span></div></div></td></tr><tr><td><div><span>Zoning Category</span></div></td><td><div><span>§ References</span></div></td><td><div><div><span>Controls</span></div></div></td></tr><tr><td colspan=\"3\"><div><div><span>BUILDING STANDARDS</span></div></div></td></tr></tbody></table></div><div><table cellspacing=\"0\"><colgroup><col width=\"34.286%\\n              \"/><col width=\"20.571%\\n              \"/><col width=\"41.143%\\n              \"/></colgroup><tbody><tr><td><div></div></td><td><div></div></td><td><div><div><span>NC-S</span></div></div></td></tr><tr><td><div><span>Zoning Category</span></div></td><td><div><span>§ References</span></div></td><td><div><div><span>Controls</span></div></div></td></tr><tr><td colspan=\"3\"><div><div><span>BUILDING STANDARDS</span></div></div></td></tr><tr><td colspan=\"3\"><div><span>Massing and Setbacks</span></div></td></tr><tr><td><div><span>Height and Bulk Limits.</span></div></td><td><div><span>§§ <link to=\"{{ pathname: \\'/codes/san_francisco/latest/sf_planning/0-0-0-17783\\', hash: \\'#JD_102\\' }}\"/>102, <link to=\"{{ pathname: \\'/codes/san_francisco/latest/sf_planning/0-0-0-17975\\', hash: \\'#JD_105\\' }}\"/>105, <link to=\"{{ pathname: \\'/codes/san_francisco/latest/sf_planning/0-0-0-17984\\', hash: \\'#JD_106\\' }}\"/>106, <link to=\"{{ pathname: \\'/codes/san_francisco/latest/sf_planning/0-0-0-21392\\', hash: \\'#JD_250\\' }}\"/>250–<link to=\"{{ pathname: \\'/codes/san_francisco/latest/sf_planning/0-0-0-21410\\', hash: \\'#JD_252\\' }}\"/>252, <link to=\"{{ pathname: \\'/codes/san_francisco/latest/sf_planning/0-0-0-56057\\', hash: \\'#JD_253.3\\' }}\"/>253.3, <link to=\"{{ pathname: \\'/codes/san_francisco/latest/sf_planning/0-0-0-21453\\', hash: \\'#JD_260\\' }}\"/>260, <link to=\"{{ pathname: \\'/codes/san_francisco/latest/sf_planning/0-0-0-61948\\', hash: \\'#JD_261.1\\' }}\"/>261.1, <link to=\"{{ pathname: \\'/codes/san_francisco/latest/sf_planning/0-0-0-21719\\', hash: \\'#JD_270\\' }}\"/>270, <link to=\"{{ pathname: \\'/codes/san_francisco/latest/sf_planning/0-0-0-21817\\', hash: \\'#JD_271\\' }}\"/>271. See also Height and Bulk District Maps</span></div></td><td><div><span>Varies, but generally 40-X. Lakeshore Plaza SUD requires C for buildings above 26 feet <link to=\"{{ pathname: \\'/codes/san_francisco/latest/sf_planning/0-0-0-25536\\', hash: \\'#JD_Table713Note(1)\\' }}\"/>(1). See Height and Bulk Map Sheets HT02-05, HT07, and HT10-13 for more information. Height sculpting required on Alleys per § <link to=\"{{ pathname: \\'/codes/san_francisco/latest/sf_planning/0-0-0-61948\\', hash: \\'#JD_261.1\\' }}\"/>261.1.</span></div></td></tr><tr><td><div><span>5 Foot Height Bonus for Active Ground Floor Uses</span></div></td><td><div><span>§ <link to=\"{{ pathname: \\'/codes/san_francisco/latest/sf_planning/0-0-0-21664\\', hash: \\'#JD_263.20\\' }}\"/>263.20</span></div></td><td><div><span>NP</span></div></td></tr><tr><td><div><span>Rear Yard</span></div></td><td><div><span>§§ <link to=\"{{ pathname: \\'/codes/san_francisco/latest/sf_planning/0-0-0-18232\\', hash: \\'#JD_130\\' }}\"/>130, <link to=\"{{ pathname: \\'/codes/san_francisco/latest/sf_planning/0-0-0-18322\\', hash: \\'#JD_134\\' }}\"/>134, <link to=\"{{ pathname: \\'/codes/san_francisco/latest/sf_planning/0-0-0-18322\\', hash: \\'#JD_134\\' }}\"/>134'],\n",
       "      dtype='<U4000')"
      ]
     },
     "execution_count": 256,
     "metadata": {},
     "output_type": "execute_result"
    }
   ],
   "source": [
    "np.random.seed(1)\n",
    "np.random.choice(chunks, 3)"
   ]
  },
  {
   "cell_type": "code",
   "execution_count": null,
   "id": "6459cc3d-aa8d-4cb1-a1e1-bf9e3b3eca96",
   "metadata": {},
   "outputs": [],
   "source": []
  }
 ],
 "metadata": {
  "kernelspec": {
   "display_name": "Python 3 (ipykernel)",
   "language": "python",
   "name": "python3"
  },
  "language_info": {
   "codemirror_mode": {
    "name": "ipython",
    "version": 3
   },
   "file_extension": ".py",
   "mimetype": "text/x-python",
   "name": "python",
   "nbconvert_exporter": "python",
   "pygments_lexer": "ipython3",
   "version": "3.11.5"
  }
 },
 "nbformat": 4,
 "nbformat_minor": 5
}
